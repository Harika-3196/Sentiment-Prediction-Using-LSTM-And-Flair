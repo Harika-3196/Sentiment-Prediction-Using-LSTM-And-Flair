{
 "cells": [
  {
   "cell_type": "code",
   "execution_count": 1,
   "metadata": {
    "ExecuteTime": {
     "end_time": "2019-04-02T17:58:12.724978Z",
     "start_time": "2019-04-02T17:58:12.291347Z"
    }
   },
   "outputs": [],
   "source": [
    "import pandas as pd"
   ]
  },
  {
   "cell_type": "code",
   "execution_count": 2,
   "metadata": {
    "ExecuteTime": {
     "end_time": "2019-04-02T17:58:14.101617Z",
     "start_time": "2019-04-02T17:58:13.811480Z"
    }
   },
   "outputs": [],
   "source": [
    "train = pd.read_csv(\"/Users/harika/Desktop/Sentiment Analysis/Data/entire_data.csv\")\n"
   ]
  },
  {
   "cell_type": "code",
   "execution_count": 3,
   "metadata": {
    "ExecuteTime": {
     "end_time": "2019-04-02T17:58:16.043676Z",
     "start_time": "2019-04-02T17:58:15.069837Z"
    }
   },
   "outputs": [],
   "source": [
    "import re\n",
    "from nltk.corpus import stopwords \n",
    "from nltk.tokenize import word_tokenize \n",
    "stop_words = set(stopwords.words('english'))\n",
    "\n",
    "\n",
    "\n",
    "def general_clean(text):\n",
    "    text = text.lower()\n",
    "    text = re.sub(\"[^a-zA-Z0-9.\\- ]\",\" \",text)\n",
    "    text = re.sub(r\"   \", \" \", text) # Remove any extra spaces\n",
    "    text = re.sub(r\"  \", \" \", text)\n",
    "    text = text.strip()\n",
    "    return text"
   ]
  },
  {
   "cell_type": "code",
   "execution_count": 5,
   "metadata": {
    "ExecuteTime": {
     "end_time": "2019-04-02T17:58:46.044605Z",
     "start_time": "2019-04-02T17:58:45.131327Z"
    }
   },
   "outputs": [],
   "source": [
    "train['cleaned_review']=train['review'].apply(lambda x:general_clean(x))\n"
   ]
  },
  {
   "cell_type": "code",
   "execution_count": 6,
   "metadata": {
    "ExecuteTime": {
     "end_time": "2019-04-02T17:59:00.069422Z",
     "start_time": "2019-04-02T17:58:59.698883Z"
    }
   },
   "outputs": [],
   "source": [
    "train['len']=train['cleaned_review'].apply(lambda x:len(x.split()))"
   ]
  },
  {
   "cell_type": "code",
   "execution_count": 7,
   "metadata": {
    "ExecuteTime": {
     "end_time": "2019-04-02T17:59:10.870180Z",
     "start_time": "2019-04-02T17:59:10.554853Z"
    }
   },
   "outputs": [],
   "source": [
    "import matplotlib.pyplot as plot\n",
    "train['len'].plot(kind=\"hist\");"
   ]
  },
  {
   "cell_type": "code",
   "execution_count": 8,
   "metadata": {
    "ExecuteTime": {
     "end_time": "2019-04-02T17:59:51.447255Z",
     "start_time": "2019-04-02T17:59:39.906208Z"
    }
   },
   "outputs": [
    {
     "data": {
      "text/plain": [
       "'\\n@param text: text\\n@return: polarity : float \\n'"
      ]
     },
     "execution_count": 8,
     "metadata": {},
     "output_type": "execute_result"
    }
   ],
   "source": [
    "\n",
    "from flair.models import TextClassifier\n",
    "from flair.data import Sentence\n",
    "classifier = TextClassifier.load('en-sentiment')\n",
    "\n",
    "\"\"\"\n",
    "@param text: text\n",
    "@return: polarity : float \n",
    "\"\"\"\n",
    "def getPolarity(sen):\n",
    "    try:\n",
    "        sentence = Sentence(sen)\n",
    "        classifier.predict(sentence)\n",
    "        if sentence.labels[0].value=='NEGATIVE':\n",
    "            score = -1*(sentence.labels[0].score)\n",
    "        else :\n",
    "            score = sentence.labels[0].score\n",
    "        return  score \n",
    "    except Exception as e:\n",
    "        return  \"not_Calcualted\"\n"
   ]
  },
  {
   "cell_type": "code",
   "execution_count": null,
   "metadata": {
    "ExecuteTime": {
     "start_time": "2019-04-02T18:09:42.395Z"
    }
   },
   "outputs": [],
   "source": [
    "train['sentiment'] = train.cleaned_review.apply(lambda x: getPolarity(x))"
   ]
  },
  {
   "cell_type": "code",
   "execution_count": null,
   "metadata": {},
   "outputs": [],
   "source": []
  },
  {
   "cell_type": "code",
   "execution_count": null,
   "metadata": {},
   "outputs": [],
   "source": []
  },
  {
   "cell_type": "code",
   "execution_count": null,
   "metadata": {},
   "outputs": [],
   "source": []
  }
 ],
 "metadata": {
  "kernelspec": {
   "display_name": "Python [conda env:py36]",
   "language": "python",
   "name": "conda-env-py36-py"
  },
  "language_info": {
   "codemirror_mode": {
    "name": "ipython",
    "version": 3
   },
   "file_extension": ".py",
   "mimetype": "text/x-python",
   "name": "python",
   "nbconvert_exporter": "python",
   "pygments_lexer": "ipython3",
   "version": "3.6.7"
  }
 },
 "nbformat": 4,
 "nbformat_minor": 2
}
